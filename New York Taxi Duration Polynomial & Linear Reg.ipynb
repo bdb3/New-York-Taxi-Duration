{
 "cells": [
  {
   "cell_type": "code",
   "execution_count": 272,
   "metadata": {
    "scrolled": false
   },
   "outputs": [
    {
     "data": {
      "text/html": [
       "<div>\n",
       "<style>\n",
       "    .dataframe thead tr:only-child th {\n",
       "        text-align: right;\n",
       "    }\n",
       "\n",
       "    .dataframe thead th {\n",
       "        text-align: left;\n",
       "    }\n",
       "\n",
       "    .dataframe tbody tr th {\n",
       "        vertical-align: top;\n",
       "    }\n",
       "</style>\n",
       "<table border=\"1\" class=\"dataframe\">\n",
       "  <thead>\n",
       "    <tr style=\"text-align: right;\">\n",
       "      <th></th>\n",
       "      <th>id</th>\n",
       "      <th>vendor_id</th>\n",
       "      <th>pickup_datetime</th>\n",
       "      <th>dropoff_datetime</th>\n",
       "      <th>passenger_count</th>\n",
       "      <th>pickup_longitude</th>\n",
       "      <th>pickup_latitude</th>\n",
       "      <th>dropoff_longitude</th>\n",
       "      <th>dropoff_latitude</th>\n",
       "      <th>store_and_fwd_flag</th>\n",
       "      <th>trip_duration</th>\n",
       "    </tr>\n",
       "  </thead>\n",
       "  <tbody>\n",
       "    <tr>\n",
       "      <th>0</th>\n",
       "      <td>id2875421</td>\n",
       "      <td>2</td>\n",
       "      <td>2016-03-14 17:24:55</td>\n",
       "      <td>2016-03-14 17:32:30</td>\n",
       "      <td>1</td>\n",
       "      <td>-73.982155</td>\n",
       "      <td>40.767937</td>\n",
       "      <td>-73.964630</td>\n",
       "      <td>40.765602</td>\n",
       "      <td>N</td>\n",
       "      <td>455</td>\n",
       "    </tr>\n",
       "    <tr>\n",
       "      <th>1</th>\n",
       "      <td>id2377394</td>\n",
       "      <td>1</td>\n",
       "      <td>2016-06-12 00:43:35</td>\n",
       "      <td>2016-06-12 00:54:38</td>\n",
       "      <td>1</td>\n",
       "      <td>-73.980415</td>\n",
       "      <td>40.738564</td>\n",
       "      <td>-73.999481</td>\n",
       "      <td>40.731152</td>\n",
       "      <td>N</td>\n",
       "      <td>663</td>\n",
       "    </tr>\n",
       "    <tr>\n",
       "      <th>2</th>\n",
       "      <td>id3858529</td>\n",
       "      <td>2</td>\n",
       "      <td>2016-01-19 11:35:24</td>\n",
       "      <td>2016-01-19 12:10:48</td>\n",
       "      <td>1</td>\n",
       "      <td>-73.979027</td>\n",
       "      <td>40.763939</td>\n",
       "      <td>-74.005333</td>\n",
       "      <td>40.710087</td>\n",
       "      <td>N</td>\n",
       "      <td>2124</td>\n",
       "    </tr>\n",
       "    <tr>\n",
       "      <th>3</th>\n",
       "      <td>id3504673</td>\n",
       "      <td>2</td>\n",
       "      <td>2016-04-06 19:32:31</td>\n",
       "      <td>2016-04-06 19:39:40</td>\n",
       "      <td>1</td>\n",
       "      <td>-74.010040</td>\n",
       "      <td>40.719971</td>\n",
       "      <td>-74.012268</td>\n",
       "      <td>40.706718</td>\n",
       "      <td>N</td>\n",
       "      <td>429</td>\n",
       "    </tr>\n",
       "    <tr>\n",
       "      <th>4</th>\n",
       "      <td>id2181028</td>\n",
       "      <td>2</td>\n",
       "      <td>2016-03-26 13:30:55</td>\n",
       "      <td>2016-03-26 13:38:10</td>\n",
       "      <td>1</td>\n",
       "      <td>-73.973053</td>\n",
       "      <td>40.793209</td>\n",
       "      <td>-73.972923</td>\n",
       "      <td>40.782520</td>\n",
       "      <td>N</td>\n",
       "      <td>435</td>\n",
       "    </tr>\n",
       "  </tbody>\n",
       "</table>\n",
       "</div>"
      ],
      "text/plain": [
       "          id  vendor_id      pickup_datetime     dropoff_datetime  \\\n",
       "0  id2875421          2  2016-03-14 17:24:55  2016-03-14 17:32:30   \n",
       "1  id2377394          1  2016-06-12 00:43:35  2016-06-12 00:54:38   \n",
       "2  id3858529          2  2016-01-19 11:35:24  2016-01-19 12:10:48   \n",
       "3  id3504673          2  2016-04-06 19:32:31  2016-04-06 19:39:40   \n",
       "4  id2181028          2  2016-03-26 13:30:55  2016-03-26 13:38:10   \n",
       "\n",
       "   passenger_count  pickup_longitude  pickup_latitude  dropoff_longitude  \\\n",
       "0                1        -73.982155        40.767937         -73.964630   \n",
       "1                1        -73.980415        40.738564         -73.999481   \n",
       "2                1        -73.979027        40.763939         -74.005333   \n",
       "3                1        -74.010040        40.719971         -74.012268   \n",
       "4                1        -73.973053        40.793209         -73.972923   \n",
       "\n",
       "   dropoff_latitude store_and_fwd_flag  trip_duration  \n",
       "0         40.765602                  N            455  \n",
       "1         40.731152                  N            663  \n",
       "2         40.710087                  N           2124  \n",
       "3         40.706718                  N            429  \n",
       "4         40.782520                  N            435  "
      ]
     },
     "execution_count": 272,
     "metadata": {},
     "output_type": "execute_result"
    }
   ],
   "source": [
    "import numpy as np\n",
    "import pandas as pd\n",
    "\n",
    "df = pd.DataFrame()\n",
    "df = pd.read_csv('C:/Users/Danny/Documents/fall17/Data Science/train.csv')\n",
    "df2 = pd.DataFrame()\n",
    "df2 = pd.read_csv('C:/Users/Danny/Documents/fall17/Data Science/test.csv')\n",
    "#only use first 10,000 so it works faster\n",
    "df = df.head(10000)\n",
    "df.head()"
   ]
  },
  {
   "cell_type": "code",
   "execution_count": 273,
   "metadata": {},
   "outputs": [],
   "source": [
    "import datetime as datetime\n",
    "#changes format to dt(datetime) rather than string\n",
    "df['pickup_datetime'] = pd.to_datetime(df['pickup_datetime'])\n",
    "df2['pickup_datetime'] = pd.to_datetime(df2['pickup_datetime'])\n",
    "#change datetime column to new columns dayofweek, hour, and minute of day\n",
    "#new columns have numerical values rather than a string 'datetime',\n",
    "#which Linear Regression can't process\n",
    "df['day_of_week'] = df['pickup_datetime'].dt.weekday_name\n",
    "df['hour'] = df['pickup_datetime'].dt.hour\n",
    "df2['day_of_week'] = df2['pickup_datetime'].dt.weekday_name\n",
    "df2['hour'] = df2['pickup_datetime'].dt.hour\n",
    "#minute of day is 60*hour of day + minutes, works well with regression\n",
    "df['minute_of_day'] = (df['pickup_datetime'].dt.hour*60)+df['pickup_datetime'].dt.minute\n",
    "df2['minute_of_day'] = (df2['pickup_datetime'].dt.hour*60)+df2['pickup_datetime'].dt.minute\n",
    "#month as a value of 0-11 \n",
    "df['month'] = df['pickup_datetime'].dt.month\n",
    "df2['month'] = df2['pickup_datetime'].dt.month\n",
    "import calendar\n",
    "#Assign names to month so OneHotEncoding doesn't overlap integer values\n",
    "df['month'] = df['month'].apply(lambda x: calendar.month_abbr[x])\n",
    "df2['month'] = df2['month'].apply(lambda x: calendar.month_abbr[x])\n",
    "#day of year as numerical (0-364) to account for New Years and other busy days\n",
    "df['day_of_year'] = df['pickup_datetime'].dt.dayofyear\n",
    "df2['day_of_year'] = df2['pickup_datetime'].dt.dayofyear\n",
    "#calculate haversine distance between two (long,lat) pairs\n",
    "from sklearn.neighbors import DistanceMetric\n",
    "dist = DistanceMetric.get_metric('haversine')\n",
    "l = []\n",
    "for i in range(0,len(df)):\n",
    "    X = [[df['pickup_latitude'][i],df['pickup_longitude'][i]],\n",
    "         [df['dropoff_latitude'][i],df['dropoff_longitude'][i]]]\n",
    "    l.append(dist.pairwise(X)[0][1])\n",
    "r = []\n",
    "for i in range(0,len(df2)):\n",
    "    X = [[df2['pickup_latitude'][i],df2['pickup_longitude'][i]],\n",
    "         [df2['dropoff_latitude'][i],df2['dropoff_longitude'][i]]]\n",
    "    r.append(dist.pairwise(X)[0][1])\n",
    "#create new dataframe to add calculated array to\n",
    "df3 = pd.DataFrame()\n",
    "df3['distance'] = l\n",
    "df = df.join(df3['distance'])\n",
    "df4 = pd.DataFrame()\n",
    "df4['distance'] = l\n",
    "df2 = df2.join(df4['distance'])\n",
    "#select features that don't need oneHotEncoding\n",
    "#X = df[['pickup_latitude','pickup_longitude','dropoff_latitude','dropoff_longitude','passenger_count', 'minute_of_day','day_of_year','distance']]\n",
    "X = df[[]]\n",
    "X2 = df[[]]\n",
    "#normalize\n",
    "normalized_X=(X - X.mean())/X.std()\n",
    "normalized_X2=(X2 - X2.mean())/X2.std()\n",
    "#normalized_X= (X)/X.max()\n",
    "#day of week and month get one hot encoded because they do not hold comparablevalues in numerical order\n",
    "oh_dw =pd.get_dummies(df['day_of_week'])\n",
    "oh_m =pd.get_dummies(df['month'])\n",
    "oh_dw2 =pd.get_dummies(df2['day_of_week'])\n",
    "oh_m2 =pd.get_dummies(df2['month'])\n",
    "#add onehotencoded columns to normalized feature set\n",
    "normalized_X = normalized_X.join(oh_dw)\n",
    "normalized_X2 = normalized_X2.join(oh_dw2)\n",
    "#normalized_X = normalized_X.join(oh_m)\n",
    "normalized_X.head()\n",
    "normalized_X2[np.isnan(normalized_X2)] = np.median(normalized_X2[~np.isnan(normalized_X2)])"
   ]
  },
  {
   "cell_type": "code",
   "execution_count": 264,
   "metadata": {
    "collapsed": true
   },
   "outputs": [],
   "source": [
    "from sklearn.model_selection import train_test_split\n",
    "y = df['trip_duration']\n",
    "#X_train, X_test, y_train, y_test = train_test_split(normalized_X, y, test_size=0.4, random_state=2)\n"
   ]
  },
  {
   "cell_type": "code",
   "execution_count": 265,
   "metadata": {
    "scrolled": false
   },
   "outputs": [
    {
     "name": "stdout",
     "output_type": "stream",
     "text": [
      "932.109600787\n",
      "0 23.646472\n",
      "1 -13.920159\n",
      "2 -43.676069\n",
      "3 -37.822831\n",
      "4 533.949267\n",
      "5 -0.937552\n",
      "6 -89.651124\n",
      "7 39.371550\n",
      "8 -118.363968\n",
      "9 59.170342\n",
      "10 78.488810\n",
      "11 31.921942\n"
     ]
    },
    {
     "data": {
      "text/plain": [
       "3.917626360006948"
      ]
     },
     "execution_count": 265,
     "metadata": {},
     "output_type": "execute_result"
    }
   ],
   "source": [
    "#Linear Regression\n",
    "from sklearn.linear_model import LinearRegression\n",
    "import math\n",
    "my_linreg = LinearRegression()\n",
    "my_linreg.fit(X_train, y_train)\n",
    "y_prediction = my_linreg.predict(X_test)\n",
    "#mse = metrics.mean_squared_log_error(y_prediction, y_test)\n",
    "total = 0\n",
    "x=0\n",
    "for i, row in y_test.iteritems():\n",
    "    if(y_prediction[x]<=0): y_prediction[x] = 0\n",
    "    total = total + math.pow((math.log(y_prediction[x]+1)-math.log(i+1)),2)\n",
    "    x = x+1\n",
    "    \n",
    "print(my_linreg.intercept_)\n",
    "co = my_linreg.coef_\n",
    "for x in range(0, len(co)):\n",
    "    print(x, '%f' % co[x])\n",
    "\n",
    "math.sqrt(total/len(y_test))\n"
   ]
  },
  {
   "cell_type": "code",
   "execution_count": 228,
   "metadata": {
    "collapsed": true
   },
   "outputs": [],
   "source": [
    "from sklearn.preprocessing import PolynomialFeatures\n",
    "poly = PolynomialFeatures(degree=2)\n",
    "X_ = poly.fit_transform(normalized_X)\n",
    "my_polyreg = LinearRegression()\n"
   ]
  },
  {
   "cell_type": "code",
   "execution_count": 52,
   "metadata": {},
   "outputs": [
    {
     "name": "stdout",
     "output_type": "stream",
     "text": [
      "Linear:  1987.48156554    poly:  2403.29384956\n"
     ]
    }
   ],
   "source": [
    "from sklearn.model_selection import cross_val_score\n",
    "mse_list = cross_val_score(my_linreg, normalized_X, y, cv=10, scoring='neg_mean_squared_error')\n",
    "mse_list_positive = -mse_list\n",
    "rmse_list = np.sqrt(mse_list_positive)\n",
    "mse_list = cross_val_score(my_polyreg, X_, y, cv=10, scoring='neg_mean_squared_error')\n",
    "mse_list_positive3 = -mse_list\n",
    "rmse_list3 = np.sqrt(mse_list_positive3)\n",
    "print(\"Linear: \",rmse_list.mean(),\"   poly: \",  rmse_list3.mean())"
   ]
  },
  {
   "cell_type": "code",
   "execution_count": null,
   "metadata": {
    "collapsed": true
   },
   "outputs": [],
   "source": []
  }
 ],
 "metadata": {
  "kernelspec": {
   "display_name": "Python 3",
   "language": "python",
   "name": "python3"
  },
  "language_info": {
   "codemirror_mode": {
    "name": "ipython",
    "version": 3
   },
   "file_extension": ".py",
   "mimetype": "text/x-python",
   "name": "python",
   "nbconvert_exporter": "python",
   "pygments_lexer": "ipython3",
   "version": "3.6.1"
  }
 },
 "nbformat": 4,
 "nbformat_minor": 2
}
