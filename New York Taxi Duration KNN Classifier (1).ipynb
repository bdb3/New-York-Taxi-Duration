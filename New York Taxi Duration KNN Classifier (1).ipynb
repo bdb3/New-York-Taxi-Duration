{
 "cells": [
  {
   "cell_type": "code",
   "execution_count": 4,
   "metadata": {
    "collapsed": true,
    "scrolled": false
   },
   "outputs": [],
   "source": [
    "import numpy as np\n",
    "import pandas as pd\n",
    "\n",
    "df = pd.DataFrame()\n",
    "df = pd.read_csv('C:/Users/Danny/Documents/fall17/Data Science/train.csv')\n",
    "#only use first 10,000 so it works faster\n",
    "df = df.head(10000)\n",
    "#changes format to dt(datetime) rather than string (unsure if this is necessary)\n",
    "df['pickup_datetime'] = pd.to_datetime(df['pickup_datetime'])\n",
    "#change datetime column to new columns dayofweek, hour, day of month, and month\n",
    "#new columns have numeric values rather than datetime which KNN can't process\n",
    "df['day_of_week'] = df['pickup_datetime'].dt.weekday\n",
    "df['hour'] = df['pickup_datetime'].dt.hour\n",
    "df['day_of_month'] = df['pickup_datetime'].dt.day\n",
    "df['month'] = df['pickup_datetime'].dt.month\n",
    "\n"
   ]
  },
  {
   "cell_type": "code",
   "execution_count": 5,
   "metadata": {
    "collapsed": true
   },
   "outputs": [],
   "source": [
    "#putting it into a knn classifier. strangely, selecting k=1 seems to be best.\n",
    "#still need to work on feature selection and implement a better algorithm\n",
    "#try deleting some features and seeing how it affects the score below\n",
    "from sklearn.model_selection import train_test_split\n",
    "X = df[['pickup_longitude', 'pickup_latitude','dropoff_longitude', 'dropoff_latitude','hour','day_of_month','month', 'day_of_week']]\n",
    "y = df['trip_duration']\n",
    "X_train, X_test, y_train, y_test = train_test_split(X, y, test_size=0.4, random_state=1)\n",
    "from sklearn.neighbors import KNeighborsClassifier\n",
    "k = 1\n",
    "knn = KNeighborsClassifier(n_neighbors=k) \n",
    "knn.fit(X_train, y_train)\n",
    "y_predict = knn.predict(X_test)\n",
    "\n",
    "from sklearn.linear_model import LogisticRegression\n",
    "from sklearn.tree import DecisionTreeClassifier\n",
    "\n",
    "#Decision Tree\n",
    "my_decisiontree = DecisionTreeClassifier()\n",
    "my_decisiontree.fit(X_train, y_train)\n",
    "y_predict_dt = my_decisiontree.predict(X_test)\n",
    "\n",
    "#Logistic Regression\n",
    "my_logreg = LogisticRegression()\n",
    "my_logreg.fit(X_train, y_train)\n",
    "y_predict_lr = my_logreg.predict(X_test)\n"
   ]
  },
  {
   "cell_type": "code",
   "execution_count": null,
   "metadata": {
    "collapsed": true
   },
   "outputs": [],
   "source": []
  },
  {
   "cell_type": "code",
   "execution_count": 8,
   "metadata": {},
   "outputs": [
    {
     "name": "stdout",
     "output_type": "stream",
     "text": [
      "2.233889816931001 2.174011685680312 2.3629737198550327\n"
     ]
    }
   ],
   "source": [
    "#rather than use the accuracy algorithm I recreated the mean squared logarithmic root function \n",
    "#used for testing on the kaggle project page. \n",
    "def RMSE(y_p, y_t):\n",
    "    import math\n",
    "    total = 0\n",
    "    x=0\n",
    "    for i, row in y_t.iteritems():\n",
    "        total = total + math.pow((math.log(y_p[x]+1)-math.log(i+1)),2)\n",
    "        x = x+1\n",
    "    return math.sqrt(total/len(y_t))\n",
    "\n",
    "print(RMSE(y_predict, y_test),\n",
    "RMSE(y_predict_dt, y_test),\n",
    "RMSE(y_predict_lr, y_test))"
   ]
  },
  {
   "cell_type": "code",
   "execution_count": null,
   "metadata": {
    "collapsed": true
   },
   "outputs": [],
   "source": []
  },
  {
   "cell_type": "code",
   "execution_count": null,
   "metadata": {
    "collapsed": true
   },
   "outputs": [],
   "source": []
  }
 ],
 "metadata": {
  "kernelspec": {
   "display_name": "Python 3",
   "language": "python",
   "name": "python3"
  },
  "language_info": {
   "codemirror_mode": {
    "name": "ipython",
    "version": 3
   },
   "file_extension": ".py",
   "mimetype": "text/x-python",
   "name": "python",
   "nbconvert_exporter": "python",
   "pygments_lexer": "ipython3",
   "version": "3.6.1"
  }
 },
 "nbformat": 4,
 "nbformat_minor": 2
}
